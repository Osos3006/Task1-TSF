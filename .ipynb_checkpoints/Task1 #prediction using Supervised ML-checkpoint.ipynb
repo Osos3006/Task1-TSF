{
 "cells": [
  {
   "cell_type": "markdown",
   "id": "7f0da961",
   "metadata": {},
   "source": [
    "# Prediction of Student grade percentage based on the number of hours studied. \n",
    "\n",
    "This code is prepared by Mohammed Osama Abuelwafa as part of the TSF Data science and business analytics internship. It is a beginner task in order to warm up. "
   ]
  },
  {
   "cell_type": "markdown",
   "id": "273c1284",
   "metadata": {},
   "source": [
    "## Importing the necessary libraries\n"
   ]
  },
  {
   "cell_type": "code",
   "execution_count": 56,
   "id": "01119cd0",
   "metadata": {},
   "outputs": [],
   "source": [
    "import pandas as pd \n",
    "import seaborn as sns\n",
    "import matplotlib.pyplot as plt \n",
    "%matplotlib inline \n",
    "from sklearn import metrics\n",
    "from sklearn.model_selection import train_test_split \n",
    "from sklearn.linear_model import LinearRegression\n",
    "from sklearn.ensemble import GradientBoostingRegressor"
   ]
  },
  {
   "cell_type": "markdown",
   "id": "457f5010",
   "metadata": {},
   "source": [
    "## Descriptive Analytics"
   ]
  },
  {
   "cell_type": "markdown",
   "id": "8185535f",
   "metadata": {},
   "source": [
    "### Loading the Data set and performing initial EDA"
   ]
  },
  {
   "cell_type": "code",
   "execution_count": 3,
   "id": "5a04cf5e",
   "metadata": {},
   "outputs": [],
   "source": [
    "students_df = pd.read_csv(\"D:\\AUC\\The spark foundation\\Task 1\\spark files\\student_scores - student_scores.csv\")"
   ]
  },
  {
   "cell_type": "code",
   "execution_count": 4,
   "id": "d217475e",
   "metadata": {},
   "outputs": [
    {
     "data": {
      "text/html": [
       "<div>\n",
       "<style scoped>\n",
       "    .dataframe tbody tr th:only-of-type {\n",
       "        vertical-align: middle;\n",
       "    }\n",
       "\n",
       "    .dataframe tbody tr th {\n",
       "        vertical-align: top;\n",
       "    }\n",
       "\n",
       "    .dataframe thead th {\n",
       "        text-align: right;\n",
       "    }\n",
       "</style>\n",
       "<table border=\"1\" class=\"dataframe\">\n",
       "  <thead>\n",
       "    <tr style=\"text-align: right;\">\n",
       "      <th></th>\n",
       "      <th>Hours</th>\n",
       "      <th>Scores</th>\n",
       "    </tr>\n",
       "  </thead>\n",
       "  <tbody>\n",
       "    <tr>\n",
       "      <th>0</th>\n",
       "      <td>2.5</td>\n",
       "      <td>21</td>\n",
       "    </tr>\n",
       "    <tr>\n",
       "      <th>1</th>\n",
       "      <td>5.1</td>\n",
       "      <td>47</td>\n",
       "    </tr>\n",
       "    <tr>\n",
       "      <th>2</th>\n",
       "      <td>3.2</td>\n",
       "      <td>27</td>\n",
       "    </tr>\n",
       "    <tr>\n",
       "      <th>3</th>\n",
       "      <td>8.5</td>\n",
       "      <td>75</td>\n",
       "    </tr>\n",
       "    <tr>\n",
       "      <th>4</th>\n",
       "      <td>3.5</td>\n",
       "      <td>30</td>\n",
       "    </tr>\n",
       "  </tbody>\n",
       "</table>\n",
       "</div>"
      ],
      "text/plain": [
       "   Hours  Scores\n",
       "0    2.5      21\n",
       "1    5.1      47\n",
       "2    3.2      27\n",
       "3    8.5      75\n",
       "4    3.5      30"
      ]
     },
     "execution_count": 4,
     "metadata": {},
     "output_type": "execute_result"
    }
   ],
   "source": [
    "students_df.head()"
   ]
  },
  {
   "cell_type": "code",
   "execution_count": 5,
   "id": "4d855103",
   "metadata": {},
   "outputs": [
    {
     "data": {
      "text/html": [
       "<div>\n",
       "<style scoped>\n",
       "    .dataframe tbody tr th:only-of-type {\n",
       "        vertical-align: middle;\n",
       "    }\n",
       "\n",
       "    .dataframe tbody tr th {\n",
       "        vertical-align: top;\n",
       "    }\n",
       "\n",
       "    .dataframe thead th {\n",
       "        text-align: right;\n",
       "    }\n",
       "</style>\n",
       "<table border=\"1\" class=\"dataframe\">\n",
       "  <thead>\n",
       "    <tr style=\"text-align: right;\">\n",
       "      <th></th>\n",
       "      <th>Hours</th>\n",
       "      <th>Scores</th>\n",
       "    </tr>\n",
       "  </thead>\n",
       "  <tbody>\n",
       "    <tr>\n",
       "      <th>count</th>\n",
       "      <td>25.000000</td>\n",
       "      <td>25.000000</td>\n",
       "    </tr>\n",
       "    <tr>\n",
       "      <th>mean</th>\n",
       "      <td>5.012000</td>\n",
       "      <td>51.480000</td>\n",
       "    </tr>\n",
       "    <tr>\n",
       "      <th>std</th>\n",
       "      <td>2.525094</td>\n",
       "      <td>25.286887</td>\n",
       "    </tr>\n",
       "    <tr>\n",
       "      <th>min</th>\n",
       "      <td>1.100000</td>\n",
       "      <td>17.000000</td>\n",
       "    </tr>\n",
       "    <tr>\n",
       "      <th>25%</th>\n",
       "      <td>2.700000</td>\n",
       "      <td>30.000000</td>\n",
       "    </tr>\n",
       "    <tr>\n",
       "      <th>50%</th>\n",
       "      <td>4.800000</td>\n",
       "      <td>47.000000</td>\n",
       "    </tr>\n",
       "    <tr>\n",
       "      <th>75%</th>\n",
       "      <td>7.400000</td>\n",
       "      <td>75.000000</td>\n",
       "    </tr>\n",
       "    <tr>\n",
       "      <th>max</th>\n",
       "      <td>9.200000</td>\n",
       "      <td>95.000000</td>\n",
       "    </tr>\n",
       "  </tbody>\n",
       "</table>\n",
       "</div>"
      ],
      "text/plain": [
       "           Hours     Scores\n",
       "count  25.000000  25.000000\n",
       "mean    5.012000  51.480000\n",
       "std     2.525094  25.286887\n",
       "min     1.100000  17.000000\n",
       "25%     2.700000  30.000000\n",
       "50%     4.800000  47.000000\n",
       "75%     7.400000  75.000000\n",
       "max     9.200000  95.000000"
      ]
     },
     "execution_count": 5,
     "metadata": {},
     "output_type": "execute_result"
    }
   ],
   "source": [
    "# generating some summary statistics regarding the data \n",
    "students_df.describe()"
   ]
  },
  {
   "cell_type": "code",
   "execution_count": 10,
   "id": "f3a875ee",
   "metadata": {},
   "outputs": [
    {
     "data": {
      "text/plain": [
       "Hours     0\n",
       "Scores    0\n",
       "dtype: int64"
      ]
     },
     "execution_count": 10,
     "metadata": {},
     "output_type": "execute_result"
    }
   ],
   "source": [
    "students_df.isna().sum()"
   ]
  },
  {
   "cell_type": "markdown",
   "id": "e7ade8c2",
   "metadata": {},
   "source": [
    "**As we can notice, the data is clean. No preprocessing is needed nor feature engineering since the problem is relatively simple**"
   ]
  },
  {
   "cell_type": "markdown",
   "id": "b37cd5b7",
   "metadata": {},
   "source": [
    "### visualizing the data"
   ]
  },
  {
   "cell_type": "code",
   "execution_count": 16,
   "id": "a931811f",
   "metadata": {},
   "outputs": [
    {
     "data": {
      "image/png": "[encoded data removed]",
      "text/plain": [
       "<Figure size 432x288 with 1 Axes>"
      ]
     },
     "metadata": {
      "needs_background": "light"
     },
     "output_type": "display_data"
    }
   ],
   "source": [
    "students_df.plot(x='Hours', y='Scores', style='ko')  \n",
    "plt.title('Hours vs Percentage')  \n",
    "plt.grid(visible=True)\n",
    "plt.xlabel('Hours Studied')  \n",
    "plt.ylabel('Percentage Score')  \n",
    "plt.show()"
   ]
  },
  {
   "cell_type": "markdown",
   "id": "67f77050",
   "metadata": {},
   "source": [
    "The relation can be noticed to be linear within two variables. hence, a simple linear regression model will perform well without overfitting or underfitting. Let's test this hypothesis.  "
   ]
  },
  {
   "cell_type": "markdown",
   "id": "21bd67c0",
   "metadata": {},
   "source": [
    "## Predictive Analytics"
   ]
  },
  {
   "cell_type": "code",
   "execution_count": 36,
   "id": "016ba5a1",
   "metadata": {},
   "outputs": [],
   "source": [
    "# creating the features and target variables\n",
    "Hours = students_df.iloc[: , :-1]\n",
    "scores = students_df.iloc[: , 1]\n"
   ]
  },
  {
   "cell_type": "code",
   "execution_count": 37,
   "id": "157aa4b0",
   "metadata": {},
   "outputs": [],
   "source": [
    "# creating the training and validation datasets\n",
    "from sklearn.model_selection import train_test_split  \n",
    "x_train, x_test, y_train, y_test = train_test_split(Hours, scores, \n",
    "                            test_size=0.2, random_state=20)"
   ]
  },
  {
   "cell_type": "code",
   "execution_count": 38,
   "id": "1ebb42ee",
   "metadata": {},
   "outputs": [
    {
     "data": {
      "text/plain": [
       "LinearRegression()"
      ]
     },
     "execution_count": 38,
     "metadata": {},
     "output_type": "execute_result"
    }
   ],
   "source": [
    "# Training the linear regression model \n",
    "reg = LinearRegression()\n",
    "reg.fit(x_train , y_train)"
   ]
  },
  {
   "cell_type": "code",
   "execution_count": 45,
   "id": "d6d6ba2f",
   "metadata": {},
   "outputs": [
    {
     "data": {
      "image/png": "[encoded data removed]",
      "text/plain": [
       "<Figure size 432x288 with 1 Axes>"
      ]
     },
     "metadata": {
      "needs_background": "light"
     },
     "output_type": "display_data"
    }
   ],
   "source": [
    "# plotting the regression line \n",
    "reg_line = reg.coef_*Hours+reg.intercept_\n",
    "\n",
    "# Plotting for the test data\n",
    "plt.title('Regression line')  \n",
    "plt.scatter(Hours, scores , c='k')\n",
    "plt.plot(Hours, reg_line , c='k' );\n",
    "plt.xlabel('Hours Studied')  \n",
    "plt.ylabel('Percentage Score')\n",
    "plt.grid(visible=True)\n",
    "plt.show()"
   ]
  },
  {
   "cell_type": "markdown",
   "id": "f8cd69fd",
   "metadata": {},
   "source": [
    "### Making Predictions on the test data"
   ]
  },
  {
   "cell_type": "code",
   "execution_count": 46,
   "id": "bf0667b9",
   "metadata": {},
   "outputs": [],
   "source": [
    "y_pred = reg.predict(x_test)"
   ]
  },
  {
   "cell_type": "code",
   "execution_count": 47,
   "id": "b534451c",
   "metadata": {},
   "outputs": [
    {
     "data": {
      "text/html": [
       "<div>\n",
       "<style scoped>\n",
       "    .dataframe tbody tr th:only-of-type {\n",
       "        vertical-align: middle;\n",
       "    }\n",
       "\n",
       "    .dataframe tbody tr th {\n",
       "        vertical-align: top;\n",
       "    }\n",
       "\n",
       "    .dataframe thead th {\n",
       "        text-align: right;\n",
       "    }\n",
       "</style>\n",
       "<table border=\"1\" class=\"dataframe\">\n",
       "  <thead>\n",
       "    <tr style=\"text-align: right;\">\n",
       "      <th></th>\n",
       "      <th>Actual</th>\n",
       "      <th>Predicted</th>\n",
       "    </tr>\n",
       "  </thead>\n",
       "  <tbody>\n",
       "    <tr>\n",
       "      <th>19</th>\n",
       "      <td>69</td>\n",
       "      <td>74.909597</td>\n",
       "    </tr>\n",
       "    <tr>\n",
       "      <th>23</th>\n",
       "      <td>76</td>\n",
       "      <td>70.074059</td>\n",
       "    </tr>\n",
       "    <tr>\n",
       "      <th>12</th>\n",
       "      <td>41</td>\n",
       "      <td>46.863479</td>\n",
       "    </tr>\n",
       "    <tr>\n",
       "      <th>4</th>\n",
       "      <td>30</td>\n",
       "      <td>37.192404</td>\n",
       "    </tr>\n",
       "    <tr>\n",
       "      <th>18</th>\n",
       "      <td>67</td>\n",
       "      <td>62.337199</td>\n",
       "    </tr>\n",
       "  </tbody>\n",
       "</table>\n",
       "</div>"
      ],
      "text/plain": [
       "    Actual  Predicted\n",
       "19      69  74.909597\n",
       "23      76  70.074059\n",
       "12      41  46.863479\n",
       "4       30  37.192404\n",
       "18      67  62.337199"
      ]
     },
     "execution_count": 47,
     "metadata": {},
     "output_type": "execute_result"
    }
   ],
   "source": [
    "results_df= pd.DataFrame({'Actual': y_test, 'Predicted': y_pred})  \n",
    "results_df"
   ]
  },
  {
   "cell_type": "code",
   "execution_count": 55,
   "id": "3d6f252f",
   "metadata": {},
   "outputs": [
    {
     "name": "stdout",
     "output_type": "stream",
     "text": [
      "No of Hours = 9.25\n",
      "Predicted Score = 92.80108554200021\n"
     ]
    }
   ],
   "source": [
    "#testing with our own data as in the prompt \n",
    "hours_sample = [[9.25]]\n",
    "sample_pred = reg.predict(hours_sample)\n",
    "print(f\"No of Hours = {hours_sample[0][0]}\")\n",
    "print(f\"Predicted Score = {sample_pred[0]}\")"
   ]
  },
  {
   "cell_type": "markdown",
   "id": "110ea38a",
   "metadata": {},
   "source": [
    "### Evaluating the model \n"
   ]
  },
  {
   "cell_type": "code",
   "execution_count": 48,
   "id": "e2d4ce9b",
   "metadata": {},
   "outputs": [
    {
     "name": "stdout",
     "output_type": "stream",
     "text": [
      "Mean Absolute Error: 5.91084430646127\n"
     ]
    }
   ],
   "source": [
    "print('Mean Absolute Error:', \n",
    "      metrics.mean_absolute_error(y_test, y_pred)) "
   ]
  },
  {
   "cell_type": "markdown",
   "id": "8369fdb6",
   "metadata": {},
   "source": [
    "### Experimenting with an XGBOOST model to solve the regression model to discuss the tradeoffs"
   ]
  },
  {
   "cell_type": "code",
   "execution_count": 57,
   "id": "369c338b",
   "metadata": {},
   "outputs": [
    {
     "data": {
      "text/plain": [
       "GradientBoostingRegressor(random_state=0)"
      ]
     },
     "execution_count": 57,
     "metadata": {},
     "output_type": "execute_result"
    }
   ],
   "source": [
    "xgBoost = GradientBoostingRegressor(random_state=0)\n",
    "xgBoost.fit(Hours,scores)"
   ]
  },
  {
   "cell_type": "code",
   "execution_count": 58,
   "id": "24c8fa30",
   "metadata": {},
   "outputs": [
    {
     "data": {
      "text/plain": [
       "0.9964832741452143"
      ]
     },
     "execution_count": 58,
     "metadata": {},
     "output_type": "execute_result"
    }
   ],
   "source": [
    "# model evaluation \n",
    "xgBoost.score(Hours,scores)"
   ]
  },
  {
   "cell_type": "markdown",
   "id": "7fde9554",
   "metadata": {},
   "source": [
    "The prediction accuracy is around 99.6%. Are we overfitting?"
   ]
  },
  {
   "cell_type": "code",
   "execution_count": 59,
   "id": "49cf05bc",
   "metadata": {},
   "outputs": [],
   "source": [
    "xg_pred = xgBoost.predict(x_test)"
   ]
  },
  {
   "cell_type": "code",
   "execution_count": 60,
   "id": "da74e11c",
   "metadata": {},
   "outputs": [],
   "source": [
    "xg_df= pd.DataFrame({'Actual': y_test, 'Predicted': xg_pred}) "
   ]
  },
  {
   "cell_type": "code",
   "execution_count": 61,
   "id": "5d1c1e20",
   "metadata": {},
   "outputs": [
    {
     "data": {
      "text/html": [
       "<div>\n",
       "<style scoped>\n",
       "    .dataframe tbody tr th:only-of-type {\n",
       "        vertical-align: middle;\n",
       "    }\n",
       "\n",
       "    .dataframe tbody tr th {\n",
       "        vertical-align: top;\n",
       "    }\n",
       "\n",
       "    .dataframe thead th {\n",
       "        text-align: right;\n",
       "    }\n",
       "</style>\n",
       "<table border=\"1\" class=\"dataframe\">\n",
       "  <thead>\n",
       "    <tr style=\"text-align: right;\">\n",
       "      <th></th>\n",
       "      <th>Actual</th>\n",
       "      <th>Predicted</th>\n",
       "    </tr>\n",
       "  </thead>\n",
       "  <tbody>\n",
       "    <tr>\n",
       "      <th>19</th>\n",
       "      <td>69</td>\n",
       "      <td>69.262790</td>\n",
       "    </tr>\n",
       "    <tr>\n",
       "      <th>23</th>\n",
       "      <td>76</td>\n",
       "      <td>75.679220</td>\n",
       "    </tr>\n",
       "    <tr>\n",
       "      <th>12</th>\n",
       "      <td>41</td>\n",
       "      <td>40.960720</td>\n",
       "    </tr>\n",
       "    <tr>\n",
       "      <th>4</th>\n",
       "      <td>30</td>\n",
       "      <td>30.413886</td>\n",
       "    </tr>\n",
       "    <tr>\n",
       "      <th>18</th>\n",
       "      <td>67</td>\n",
       "      <td>66.986002</td>\n",
       "    </tr>\n",
       "  </tbody>\n",
       "</table>\n",
       "</div>"
      ],
      "text/plain": [
       "    Actual  Predicted\n",
       "19      69  69.262790\n",
       "23      76  75.679220\n",
       "12      41  40.960720\n",
       "4       30  30.413886\n",
       "18      67  66.986002"
      ]
     },
     "execution_count": 61,
     "metadata": {},
     "output_type": "execute_result"
    }
   ],
   "source": [
    "xg_df"
   ]
  },
  {
   "cell_type": "code",
   "execution_count": 62,
   "id": "a37b5203",
   "metadata": {},
   "outputs": [
    {
     "name": "stdout",
     "output_type": "stream",
     "text": [
      "Mean Absolute Error: 0.21014665269571609\n"
     ]
    }
   ],
   "source": [
    "print('Mean Absolute Error:', \n",
    "      metrics.mean_absolute_error(y_test, xg_pred)) "
   ]
  },
  {
   "cell_type": "markdown",
   "id": "dc717977",
   "metadata": {},
   "source": [
    "As expected, the xgboost model performs really better than the linear regression model. However, due to data scarcity, we can notice the overfitting effect. hence, it is better to use the linear regression for generalization purposes and reducing the variance. "
   ]
  },
  {
   "cell_type": "code",
   "execution_count": 63,
   "id": "4d556e52",
   "metadata": {},
   "outputs": [
    {
     "name": "stdout",
     "output_type": "stream",
     "text": [
      "No of Hours = 9.25\n",
      "Predicted Score = 88.1016478513951\n"
     ]
    }
   ],
   "source": [
    "#testing with our own data as in the prompt \n",
    "hours_sample = [[9.25]]\n",
    "xgSample_pred = xgBoost.predict(hours_sample)\n",
    "print(f\"No of Hours = {hours_sample[0][0]}\")\n",
    "print(f\"Predicted Score = {xgSample_pred[0]}\")"
   ]
  },
  {
   "cell_type": "markdown",
   "id": "9f575784",
   "metadata": {},
   "source": [
    "The score is not as accurate when new data is presented"
   ]
  },
  {
   "cell_type": "code",
   "execution_count": null,
   "id": "acc3a409",
   "metadata": {},
   "outputs": [],
   "source": []
  }
 ],
 "metadata": {
  "kernelspec": {
   "display_name": "Python 3",
   "language": "python",
   "name": "python3"
  },
  "language_info": {
   "codemirror_mode": {
    "name": "ipython",
    "version": 3
   },
   "file_extension": ".py",
   "mimetype": "text/x-python",
   "name": "python",
   "nbconvert_exporter": "python",
   "pygments_lexer": "ipython3",
   "version": "3.8.3"
  }
 },
 "nbformat": 4,
 "nbformat_minor": 5
}
